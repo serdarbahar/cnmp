{
 "cells": [
  {
   "cell_type": "code",
   "execution_count": 9,
   "metadata": {},
   "outputs": [
    {
     "name": "stdout",
     "output_type": "stream",
     "text": [
      "(64, 100, 17)\n"
     ]
    }
   ],
   "source": [
    "import numpy as np \n",
    "from scipy.interpolate import interp1d\n",
    "\n",
    "Y1 = np.load(\"forward_trajectories (1).npy\")\n",
    "Y2 = np.load(\"inverse_trajectories (1).npy\")\n",
    "\n",
    "num_points=100\n",
    "t_original = np.linspace(0, 1, Y1.shape[1])  # Original time indices\n",
    "t_new = np.linspace(0, 1, num_points)  # New time indices\n",
    "\n",
    "interp_func = interp1d(t_original, Y1, axis=1, kind='linear')  # Linear interpolation\n",
    "downsampled_trajectory = interp_func(t_new)\n",
    "\n",
    "print(downsampled_trajectory.shape)\n",
    "np.save(\"forward_trajectories_downsampled.npy\", downsampled_trajectory)\n",
    "\n",
    "t_original = np.linspace(0, 1, Y2.shape[1])  # Original time indices\n",
    "t_new = np.linspace(0, 1, num_points)  # New time indices\n",
    "\n",
    "interp_func = interp1d(t_original, Y2, axis=1, kind='linear')  # Linear interpolation\n",
    "downsampled_trajectory = interp_func(t_new)\n",
    "\n",
    "np.save(\"inverse_trajectories_downsampled.npy\", downsampled_trajectory)\n"
   ]
  }
 ],
 "metadata": {
  "kernelspec": {
   "display_name": "Python 3",
   "language": "python",
   "name": "python3"
  },
  "language_info": {
   "codemirror_mode": {
    "name": "ipython",
    "version": 3
   },
   "file_extension": ".py",
   "mimetype": "text/x-python",
   "name": "python",
   "nbconvert_exporter": "python",
   "pygments_lexer": "ipython3",
   "version": "3.9.6"
  }
 },
 "nbformat": 4,
 "nbformat_minor": 2
}
