{
 "cells": [
  {
   "cell_type": "code",
   "execution_count": 14,
   "metadata": {},
   "outputs": [
    {
     "name": "stdout",
     "output_type": "stream",
     "text": [
      "[[ 0.41583101  0.9094419 ]\n",
      " [ 0.9094419  -0.41583101]]\n",
      "[[ 0.80266843  0.59642551]\n",
      " [ 0.59642551 -0.80266843]]\n"
     ]
    },
    {
     "name": "stderr",
     "output_type": "stream",
     "text": [
      "/var/folders/63/kw9gvntx3hzftcn6fp7wkf0c0000gn/T/ipykernel_99316/3200502781.py:7: FutureWarning: You are using `torch.load` with `weights_only=False` (the current default value), which uses the default pickle module implicitly. It is possible to construct malicious pickle data which will execute arbitrary code during unpickling (See https://github.com/pytorch/pytorch/blob/main/SECURITY.md#untrusted-models for more details). In a future release, the default value for `weights_only` will be flipped to `True`. This limits the functions that could be executed during unpickling. Arbitrary objects will no longer be allowed to be loaded via this mode unless they are explicitly allowlisted by the user via `torch.serialization.add_safe_globals`. We recommend you start setting `weights_only=True` for any use case where you don't have full control of the loaded file. Please open an issue on GitHub for any issues related to this experimental feature.\n",
      "  [weight_1_f, weight_1_i] = torch.load('forward_inverse_weights_1.pth')\n",
      "/var/folders/63/kw9gvntx3hzftcn6fp7wkf0c0000gn/T/ipykernel_99316/3200502781.py:8: FutureWarning: You are using `torch.load` with `weights_only=False` (the current default value), which uses the default pickle module implicitly. It is possible to construct malicious pickle data which will execute arbitrary code during unpickling (See https://github.com/pytorch/pytorch/blob/main/SECURITY.md#untrusted-models for more details). In a future release, the default value for `weights_only` will be flipped to `True`. This limits the functions that could be executed during unpickling. Arbitrary objects will no longer be allowed to be loaded via this mode unless they are explicitly allowlisted by the user via `torch.serialization.add_safe_globals`. We recommend you start setting `weights_only=True` for any use case where you don't have full control of the loaded file. Please open an issue on GitHub for any issues related to this experimental feature.\n",
      "  [weight_2_f, weight_2_i]= torch.load('forward_inverse_weights_2.pth')\n"
     ]
    }
   ],
   "source": [
    "import numpy as np\n",
    "from sklearn.decomposition import PCA\n",
    "from sympy import reduced\n",
    "import torch\n",
    "import matplotlib.pyplot as plt\n",
    "\n",
    "[weight_1_f, weight_1_i] = torch.load('forward_inverse_weights_1.pth')\n",
    "[weight_2_f, weight_2_i]= torch.load('forward_inverse_weights_2.pth')\n",
    "\n",
    "## center and normalize weights\n",
    "\n",
    "pca = PCA(n_components=4)\n",
    "pca_results = pca.fit_transform([weight_1_f, weight_1_i, weight_2_f, weight_2_i])\n",
    "\n",
    "reduced_weight_1_f = ((pca_results[0] - pca_results[0].mean()) / np.max(pca_results[0])).reshape(2, -1)\n",
    "reduced_weight_1_i = ((pca_results[1] - pca_results[1].mean()) / np.max(pca_results[1])).reshape(2, -1)\n",
    "reduced_weight_2_f = ((pca_results[2] - pca_results[2].mean()) / np.max(pca_results[2])).reshape(2, -1)\n",
    "reduced_weight_2_i = ((pca_results[3] - pca_results[3].mean()) / np.max(pca_results[3])).reshape(2, -1)\n",
    "\n",
    "U,_,Vt = np.linalg.svd(reduced_weight_1_f.T @ reduced_weight_1_i)\n",
    "U2,_,Vt2 = np.linalg.svd(reduced_weight_2_f.T @ reduced_weight_2_i)\n",
    "R1 = U @ Vt\n",
    "R2 = U2 @ Vt2\n",
    "\n",
    "weight_1_f_transformed = reduced_weight_1_f @ R1\n",
    "weight_2_f_transformed = reduced_weight_2_f @ R2\n",
    "\n",
    "procrustes_distance = np.linalg.norm(weight_1_f_transformed - reduced_weight_1_i)\n",
    "procrustes_distance2 = np.linalg.norm(weight_2_f_transformed - reduced_weight_2_i)\n"
   ]
  }
 ],
 "metadata": {
  "kernelspec": {
   "display_name": "Python 3",
   "language": "python",
   "name": "python3"
  },
  "language_info": {
   "codemirror_mode": {
    "name": "ipython",
    "version": 3
   },
   "file_extension": ".py",
   "mimetype": "text/x-python",
   "name": "python",
   "nbconvert_exporter": "python",
   "pygments_lexer": "ipython3",
   "version": "3.9.6"
  }
 },
 "nbformat": 4,
 "nbformat_minor": 2
}
